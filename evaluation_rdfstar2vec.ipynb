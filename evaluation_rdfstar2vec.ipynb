{
 "cells": [
  {
   "cell_type": "code",
   "execution_count": null,
   "id": "6e5f4f2a",
   "metadata": {},
   "outputs": [],
   "source": [
    "import argparse\n",
    "\n",
    "from evaluation_framework.manager import FrameworkManager"
   ]
  },
  {
   "cell_type": "code",
   "execution_count": null,
   "id": "50d81d87",
   "metadata": {
    "scrolled": false
   },
   "outputs": [],
   "source": [
    "evaluation_manager = FrameworkManager()\n",
    "evaluation_manager.evaluate(\n",
    "    vector_filename=\"ikgrc_embeddings/ikgrc_rdfstar2vec_5_5_remove_Person_Object_Place_wang2vec.txt\",\n",
    "    vector_file_format=\"txt\",\n",
    "    vector_size=100,\n",
    "    tasks=[\"Clustering\"],\n",
    "    similarity_metric=\"cosine\",\n",
    "    top_k=2,\n",
    "    debugging_mode=True,\n",
    "    result_directory_path=\"kgrc_rdfstar2vec_5_5_Person_Object_Place_wang2vec/\"\n",
    ")"
   ]
  },
  {
   "cell_type": "code",
   "execution_count": null,
   "id": "73c3fefa",
   "metadata": {},
   "outputs": [],
   "source": []
  }
 ],
 "metadata": {
  "kernelspec": {
   "display_name": "Python 3",
   "language": "python",
   "name": "python3"
  },
  "language_info": {
   "codemirror_mode": {
    "name": "ipython",
    "version": 3
   },
   "file_extension": ".py",
   "mimetype": "text/x-python",
   "name": "python",
   "nbconvert_exporter": "python",
   "pygments_lexer": "ipython3",
   "version": "3.8.3"
  }
 },
 "nbformat": 4,
 "nbformat_minor": 5
}
